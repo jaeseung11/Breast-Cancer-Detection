{
  "nbformat": 4,
  "nbformat_minor": 0,
  "metadata": {
    "colab": {
      "provenance": [],
      "machine_shape": "hm"
    },
    "kernelspec": {
      "name": "python3",
      "display_name": "Python 3"
    },
    "language_info": {
      "name": "python"
    },
    "accelerator": "GPU",
    "gpuClass": "standard"
  },
  "cells": [
    {
      "cell_type": "code",
      "source": [
        "from google.colab import drive\n",
        "drive.mount('/content/drive')"
      ],
      "metadata": {
        "colab": {
          "base_uri": "https://localhost:8080/"
        },
        "id": "mjJWvWldlclH",
        "outputId": "cca4d405-d32d-4e63-852e-1254e5e862d5"
      },
      "execution_count": null,
      "outputs": [
        {
          "output_type": "stream",
          "name": "stdout",
          "text": [
            "Drive already mounted at /content/drive; to attempt to forcibly remount, call drive.mount(\"/content/drive\", force_remount=True).\n"
          ]
        }
      ]
    },
    {
      "cell_type": "code",
      "source": [
        "!pip install pydicom"
      ],
      "metadata": {
        "colab": {
          "base_uri": "https://localhost:8080/"
        },
        "id": "J_fZC8uBlrSl",
        "outputId": "5ee46c6d-fb4f-4c07-8a0d-506bb8c12f59"
      },
      "execution_count": null,
      "outputs": [
        {
          "output_type": "stream",
          "name": "stdout",
          "text": [
            "Looking in indexes: https://pypi.org/simple, https://us-python.pkg.dev/colab-wheels/public/simple/\n",
            "Collecting pydicom\n",
            "  Downloading pydicom-2.3.1-py3-none-any.whl (2.0 MB)\n",
            "\u001b[2K     \u001b[90m━━━━━━━━━━━━━━━━━━━━━━━━━━━━━━━━━━━━━━━━\u001b[0m \u001b[32m2.0/2.0 MB\u001b[0m \u001b[31m76.0 MB/s\u001b[0m eta \u001b[36m0:00:00\u001b[0m\n",
            "\u001b[?25hInstalling collected packages: pydicom\n",
            "Successfully installed pydicom-2.3.1\n"
          ]
        }
      ]
    },
    {
      "cell_type": "code",
      "source": [
        "import torchvision"
      ],
      "metadata": {
        "id": "Su-UZOfMrKe8"
      },
      "execution_count": null,
      "outputs": []
    },
    {
      "cell_type": "code",
      "source": [
        "import cv2"
      ],
      "metadata": {
        "id": "_2bdHoYgo67l"
      },
      "execution_count": null,
      "outputs": []
    },
    {
      "cell_type": "code",
      "execution_count": null,
      "metadata": {
        "id": "Nkk4Oy76h_7j"
      },
      "outputs": [],
      "source": [
        "import numpy as np\n",
        "import pandas as pd\n",
        "import os\n",
        "import glob\n",
        "import matplotlib.pyplot as plt\n",
        "\n",
        "\n",
        "import pydicom as dicom\n",
        "\n",
        "from sklearn.preprocessing import LabelEncoder\n",
        "\n",
        "from torch.utils.data import Dataset, DataLoader, Subset\n",
        "\n",
        "import torch\n",
        "import torch.nn as nn\n",
        "import torch.nn.functional as F\n",
        "import torchvision.transforms as T\n",
        "\n",
        "from torch.autograd import Variable\n",
        "from sklearn.model_selection import StratifiedKFold,GroupKFold"
      ]
    },
    {
      "cell_type": "code",
      "source": [
        "if torch.cuda.is_available():\n",
        "  DEVICE = torch.device('cuda')\n",
        "else:\n",
        "  DEVICE = torch.device('cpu')"
      ],
      "metadata": {
        "id": "-R_T1fM8ldxA"
      },
      "execution_count": null,
      "outputs": []
    },
    {
      "cell_type": "code",
      "source": [
        "BATCH_SIZE = 100\n",
        "EPOCHS = 10\n",
        "FOLDS = 5"
      ],
      "metadata": {
        "id": "qXjd3vL6mo5Q"
      },
      "execution_count": null,
      "outputs": []
    },
    {
      "cell_type": "code",
      "source": [
        "train = pd.read_csv(\"/content/drive/MyDrive/파이널 프로젝트/data1/train.csv\")\n",
        "base_path = \"/content/drive/MyDrive/파이널 프로젝트/data1/train_processed/\"\n",
        "all_paths = []\n",
        "for k in range(len(train)):\n",
        "  row = train.iloc[k,:]\n",
        "  all_paths.append(base_path + str(row.patient_id)+ \"/\" + str(row.image_id) + \".png\")\n",
        "\n",
        "train['path'] = all_paths"
      ],
      "metadata": {
        "id": "c6RpGSeum0FH"
      },
      "execution_count": null,
      "outputs": []
    },
    {
      "cell_type": "code",
      "source": [
        "train.path.isnull().sum()"
      ],
      "metadata": {
        "colab": {
          "base_uri": "https://localhost:8080/"
        },
        "id": "KwgOiTz7nuTK",
        "outputId": "2fb4205f-3604-4ae6-c712-f92103a79e2a"
      },
      "execution_count": null,
      "outputs": [
        {
          "output_type": "execute_result",
          "data": {
            "text/plain": [
              "0"
            ]
          },
          "metadata": {},
          "execution_count": 10
        }
      ]
    },
    {
      "cell_type": "code",
      "source": [
        "class Dataset(Dataset):\n",
        "  def __init__(self, dataframe, istrain):\n",
        "    self.dataframe = dataframe\n",
        "    self.istrain = istrain\n",
        "\n",
        "    if self.istrain == True:\n",
        "      self.transform = T.Compose([T.RandomResizedCrop((224, 224), scale = (0.2, 1.0))])\n",
        "    else:\n",
        "      self.transform = T.Compose([T.ToTensor()])\n",
        "\n",
        "  def __len__(self):\n",
        "    return len(self.dataframe)\n",
        "\n",
        "  def __getitem__(self, index):\n",
        "    image_path = self.dataframe['path'][index]\n",
        "    image = cv2.imread(image_path)\n",
        "    image = image.view(-1, image.shape[0], image.shape[1])\n",
        "\n",
        "    image = self.transform(image)\n",
        "    if self.istrain == True:\n",
        "      return image, self.dataframe['cancer'][index]\n",
        "    else:\n",
        "      return image\n",
        "\n"
      ],
      "metadata": {
        "id": "hGzBmViMnxvw",
        "colab": {
          "base_uri": "https://localhost:8080/",
          "height": 246
        },
        "outputId": "19746a16-fcbc-4b50-8af4-d443b579359d"
      },
      "execution_count": null,
      "outputs": [
        {
          "output_type": "error",
          "ename": "NameError",
          "evalue": "ignored",
          "traceback": [
            "\u001b[0;31m---------------------------------------------------------------------------\u001b[0m",
            "\u001b[0;31mNameError\u001b[0m                                 Traceback (most recent call last)",
            "\u001b[0;32m<ipython-input-1-ff884f19c260>\u001b[0m in \u001b[0;36m<module>\u001b[0;34m\u001b[0m\n\u001b[0;32m----> 1\u001b[0;31m \u001b[0;32mclass\u001b[0m \u001b[0mDataset\u001b[0m\u001b[0;34m(\u001b[0m\u001b[0mDataset\u001b[0m\u001b[0;34m)\u001b[0m\u001b[0;34m:\u001b[0m\u001b[0;34m\u001b[0m\u001b[0;34m\u001b[0m\u001b[0m\n\u001b[0m\u001b[1;32m      2\u001b[0m   \u001b[0;32mdef\u001b[0m \u001b[0m__init__\u001b[0m\u001b[0;34m(\u001b[0m\u001b[0mself\u001b[0m\u001b[0;34m,\u001b[0m \u001b[0mdataframe\u001b[0m\u001b[0;34m,\u001b[0m \u001b[0mistrain\u001b[0m\u001b[0;34m)\u001b[0m\u001b[0;34m:\u001b[0m\u001b[0;34m\u001b[0m\u001b[0;34m\u001b[0m\u001b[0m\n\u001b[1;32m      3\u001b[0m     \u001b[0mself\u001b[0m\u001b[0;34m.\u001b[0m\u001b[0mdataframe\u001b[0m \u001b[0;34m=\u001b[0m \u001b[0mdataframe\u001b[0m\u001b[0;34m\u001b[0m\u001b[0;34m\u001b[0m\u001b[0m\n\u001b[1;32m      4\u001b[0m     \u001b[0mself\u001b[0m\u001b[0;34m.\u001b[0m\u001b[0mistrain\u001b[0m \u001b[0;34m=\u001b[0m \u001b[0mistrain\u001b[0m\u001b[0;34m\u001b[0m\u001b[0;34m\u001b[0m\u001b[0m\n\u001b[1;32m      5\u001b[0m \u001b[0;34m\u001b[0m\u001b[0m\n",
            "\u001b[0;31mNameError\u001b[0m: name 'Dataset' is not defined"
          ]
        }
      ]
    },
    {
      "cell_type": "code",
      "source": [
        "dataset = Dataset(train, True)\n",
        "dataloader = DataLoader(dataset, batch_size= BATCH_SIZE, shuffle=False)"
      ],
      "metadata": {
        "id": "5iHy_D3fpw_N"
      },
      "execution_count": null,
      "outputs": []
    },
    {
      "cell_type": "code",
      "source": [
        "class CNN(nn.Module):\n",
        "    def __init__(self):\n",
        "        super(CNN , self).__init__()\n",
        "        self.conv1 = nn.Conv2d(1 , 32 , kernel_size = 5)\n",
        "        self.conv2 = nn.Conv2d(32 , 32 , kernel_size = 5)\n",
        "        self.conv3 = nn.Conv2d(32 , 64 , kernel_size = 5)\n",
        "        self.fc1 = nn.Linear(2 * 2 * 43264 , 512)\n",
        "        self.fc2 = nn.Linear(512 , 2)\n",
        "\n",
        "    def forward(self , x):\n",
        "        x = F.relu(self.conv1(x))\n",
        "        x = F.relu(F.max_pool2d(self.conv2(x) , 2))\n",
        "        x = F.dropout(x , p = 0.5 , training = self.training)\n",
        "        x = F.relu(F.max_pool2d(self.conv3(x) , 2))\n",
        "        x = F.dropout(x , p = 0.5 , training = self.training)\n",
        "        x = x.view(-1 , 2 * 2 * 43264)\n",
        "        x = F.relu(self.fc1(x))\n",
        "        x = F.dropout(x , training = self.training)\n",
        "        x = self.fc2(x)\n",
        "        return F.log_softmax(x , dim = 1)"
      ],
      "metadata": {
        "id": "YR7zJrr-qHAN"
      },
      "execution_count": null,
      "outputs": []
    },
    {
      "cell_type": "code",
      "source": [
        "model = CNN().to(DEVICE)\n",
        "\n",
        "def fit():\n",
        "    \n",
        "    group_fold = GroupKFold(n_splits = FOLDS)\n",
        "    \n",
        "    k_folds = group_fold.split(X = np.zeros(len(train)), \n",
        "                               y = train['cancer'], \n",
        "                               groups = train['patient_id'].tolist())\n",
        "    \n",
        "    for i, (train_index, valid_index) in enumerate(k_folds):\n",
        "        print(len(train_index) , len(valid_index))\n",
        "        \n",
        "        \n",
        "        train_data = train.iloc[train_index].reset_index(drop=True)\n",
        "        valid_data = train.iloc[valid_index].reset_index(drop=True)\n",
        "\n",
        "        # Create Data instances\n",
        "        train_dataset = Dataset(train_data , True)\n",
        "        valid_dataset = Dataset(valid_data , False)\n",
        "\n",
        "        train_loader = DataLoader(train_dataset, batch_size=BATCH_SIZE, shuffle=True)\n",
        "        valid_loader = DataLoader(valid_dataset, batch_size=BATCH_SIZE, shuffle=False)\n",
        "\n",
        "        optimizer = torch.optim.Adam(model.parameters())\n",
        "        error = nn.CrossEntropyLoss()\n",
        "        model.train()\n",
        "\n",
        "        for epoch in range(EPOCHS):\n",
        "            correct = 0\n",
        "            for batch_idx , (X_batch , y_batch) in enumerate(train_loader):\n",
        "                vX_batch = Variable(X_batch).float()\n",
        "                vy_batch = Variable(y_batch)\n",
        "                \n",
        "                vX_batch = vX_batch.to(DEVICE)\n",
        "                vy_batch = vy_batch.to(DEVICE)\n",
        "                \n",
        "                optimizer.zero_grad()\n",
        "                output = model(vX_batch)\n",
        "                loss = error(output , vy_batch)\n",
        "                loss.backward()\n",
        "                optimizer.step()\n",
        "\n",
        "                predicted = torch.max(output.data , 1)[1]\n",
        "\n",
        "                correct += (predicted == vy_batch).sum()\n",
        "\n",
        "            print(\"Epoch: \" , epoch , \"\\tLoss: \" , loss.data , \"\\tAccuracy: \" , round(float(correct*100) / float(len(train_index))) , 2)\n",
        "            \n",
        "        train_acc = round(float(correct*100) / float(len(train_index)) , 2)\n",
        "        \n",
        "        print(\"Train Accuracy: \" , train_acc , \"%\" )\n",
        "        \n",
        "        model.eval()\n",
        "\n",
        "        with torch.no_grad():\n",
        "            for batch_idx , (X_batch , y_batch)  in enumerate(valid_loader):\n",
        "                \n",
        "                vX_batch = Variable(X_batch).float()\n",
        "                vy_batch = Variable(y_batch)\n",
        "                \n",
        "                vX_batch = vX_batch.to(DEVICE)\n",
        "                vy_batch = vy_batch.to(DEVICE)\n",
        "\n",
        "                output = model(vX_batch)\n",
        "                predicted = torch.max(output.data , 1)[1]\n",
        "                correct += (predicted == vy_batch).sum()\n",
        "\n",
        "            # Calculate accuracy\n",
        "            valid_acc = round(float(correct*100) / float(len(valid_index)) , 2)\n",
        "            \n",
        "            print(\"Valid Accuracy: \" , valid_acc , \"%\" )                 "
      ],
      "metadata": {
        "id": "mu2qbGOMqNBQ"
      },
      "execution_count": null,
      "outputs": []
    },
    {
      "cell_type": "code",
      "source": [
        "fit()"
      ],
      "metadata": {
        "colab": {
          "base_uri": "https://localhost:8080/"
        },
        "id": "MQLCLrppqidE",
        "outputId": "19bbdd12-8fd9-4397-e133-444f51e421fd"
      },
      "execution_count": null,
      "outputs": [
        {
          "output_type": "stream",
          "name": "stdout",
          "text": [
            "43763 10943\n"
          ]
        }
      ]
    },
    {
      "cell_type": "code",
      "source": [],
      "metadata": {
        "id": "cdiqpROzqlHe"
      },
      "execution_count": null,
      "outputs": []
    }
  ]
}